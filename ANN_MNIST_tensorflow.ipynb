{
 "cells": [
  {
   "cell_type": "markdown",
   "id": "35c17ff9",
   "metadata": {},
   "source": [
    "### Data Collection and Preprocessing"
   ]
  },
  {
   "cell_type": "code",
   "execution_count": 2,
   "id": "6f604ddc",
   "metadata": {},
   "outputs": [],
   "source": [
    "import tensorflow as tf\n",
    "from tensorflow.keras.datasets import mnist\n",
    "from tensorflow.keras.utils import to_categorical"
   ]
  },
  {
   "cell_type": "code",
   "execution_count": 3,
   "id": "ca0c1f25",
   "metadata": {},
   "outputs": [],
   "source": [
    "# Load the MNIST dataset\n",
    "(x_train, y_train), (x_test, y_test) = mnist.load_data()"
   ]
  },
  {
   "cell_type": "code",
   "execution_count": 4,
   "id": "9a8bfb3b",
   "metadata": {},
   "outputs": [],
   "source": [
    "# Normalize the image data to the range 0-1\n",
    "x_train = x_train.astype('float32')/ 255.0\n",
    "x_test = x_test.astype('float32')/255.0"
   ]
  },
  {
   "cell_type": "code",
   "execution_count": 5,
   "id": "05dd4587",
   "metadata": {},
   "outputs": [],
   "source": [
    "#Flatten the image (28x28 -> 784)\n",
    "x_train = x_train.reshape(-1,28*28)\n",
    "x_test = x_test.reshape(-1,28*28)"
   ]
  },
  {
   "cell_type": "code",
   "execution_count": 6,
   "id": "1ebda308",
   "metadata": {},
   "outputs": [],
   "source": [
    "#One-hot encode the labels\n",
    "y_train = to_categorical(y_train, 10)\n",
    "y_test = to_categorical(y_test, 10)"
   ]
  },
  {
   "cell_type": "markdown",
   "id": "8af8409f",
   "metadata": {},
   "source": [
    "### Model Building"
   ]
  },
  {
   "cell_type": "code",
   "execution_count": 8,
   "id": "f9e84e20",
   "metadata": {},
   "outputs": [],
   "source": [
    "from tensorflow.keras.models import Sequential\n",
    "from tensorflow.keras.layers import Dense, Dropout"
   ]
  },
  {
   "cell_type": "code",
   "execution_count": 11,
   "id": "83610595",
   "metadata": {},
   "outputs": [],
   "source": [
    "# Build the ANN model\n",
    "model = Sequential([\n",
    "    Dense(512, activation='relu', input_shape=(784,)),\n",
    "    Dropout(0.2),\n",
    "    Dense(512, activation='relu'),\n",
    "    Dropout(0.2),\n",
    "    Dense(10, activation='softmax')\n",
    "])"
   ]
  },
  {
   "cell_type": "code",
   "execution_count": 12,
   "id": "4f8d40b5",
   "metadata": {},
   "outputs": [],
   "source": [
    "#compile the model\n",
    "model.compile(optimizer='adam', loss='categorical_crossentropy', metrics=['accuracy'])"
   ]
  },
  {
   "cell_type": "code",
   "execution_count": 13,
   "id": "9bb0f18d",
   "metadata": {},
   "outputs": [
    {
     "name": "stdout",
     "output_type": "stream",
     "text": [
      "Model: \"sequential\"\n",
      "_________________________________________________________________\n",
      " Layer (type)                Output Shape              Param #   \n",
      "=================================================================\n",
      " dense_1 (Dense)             (None, 512)               401920    \n",
      "                                                                 \n",
      " dropout (Dropout)           (None, 512)               0         \n",
      "                                                                 \n",
      " dense_2 (Dense)             (None, 512)               262656    \n",
      "                                                                 \n",
      " dropout_1 (Dropout)         (None, 512)               0         \n",
      "                                                                 \n",
      " dense_3 (Dense)             (None, 10)                5130      \n",
      "                                                                 \n",
      "=================================================================\n",
      "Total params: 669706 (2.55 MB)\n",
      "Trainable params: 669706 (2.55 MB)\n",
      "Non-trainable params: 0 (0.00 Byte)\n",
      "_________________________________________________________________\n"
     ]
    }
   ],
   "source": [
    "#Model summary\n",
    "model.summary()"
   ]
  },
  {
   "cell_type": "markdown",
   "id": "5d05c8f1",
   "metadata": {},
   "source": [
    "### Model Training"
   ]
  },
  {
   "cell_type": "code",
   "execution_count": 14,
   "id": "d9f0df93",
   "metadata": {},
   "outputs": [
    {
     "name": "stdout",
     "output_type": "stream",
     "text": [
      "Epoch 1/20\n",
      "375/375 [==============================] - 7s 15ms/step - loss: 0.2761 - accuracy: 0.9171 - val_loss: 0.1219 - val_accuracy: 0.9623\n",
      "Epoch 2/20\n",
      "375/375 [==============================] - 5s 15ms/step - loss: 0.1112 - accuracy: 0.9658 - val_loss: 0.0929 - val_accuracy: 0.9718\n",
      "Epoch 3/20\n",
      "375/375 [==============================] - 6s 15ms/step - loss: 0.0784 - accuracy: 0.9751 - val_loss: 0.0865 - val_accuracy: 0.9734\n",
      "Epoch 4/20\n",
      "375/375 [==============================] - 6s 15ms/step - loss: 0.0574 - accuracy: 0.9811 - val_loss: 0.0774 - val_accuracy: 0.9775\n",
      "Epoch 5/20\n",
      "375/375 [==============================] - 6s 16ms/step - loss: 0.0463 - accuracy: 0.9849 - val_loss: 0.0807 - val_accuracy: 0.9779\n",
      "Epoch 6/20\n",
      "375/375 [==============================] - 5s 15ms/step - loss: 0.0379 - accuracy: 0.9879 - val_loss: 0.0854 - val_accuracy: 0.9776\n",
      "Epoch 7/20\n",
      "375/375 [==============================] - 5s 15ms/step - loss: 0.0329 - accuracy: 0.9894 - val_loss: 0.0847 - val_accuracy: 0.9759\n",
      "Epoch 8/20\n",
      "375/375 [==============================] - 6s 17ms/step - loss: 0.0313 - accuracy: 0.9894 - val_loss: 0.0820 - val_accuracy: 0.9775\n",
      "Epoch 9/20\n",
      "375/375 [==============================] - 7s 19ms/step - loss: 0.0291 - accuracy: 0.9901 - val_loss: 0.0930 - val_accuracy: 0.9762\n",
      "Epoch 10/20\n",
      "375/375 [==============================] - 8s 21ms/step - loss: 0.0265 - accuracy: 0.9913 - val_loss: 0.0892 - val_accuracy: 0.9781\n",
      "Epoch 11/20\n",
      "375/375 [==============================] - 6s 16ms/step - loss: 0.0237 - accuracy: 0.9918 - val_loss: 0.0950 - val_accuracy: 0.9767\n",
      "Epoch 12/20\n",
      "375/375 [==============================] - 8s 23ms/step - loss: 0.0197 - accuracy: 0.9933 - val_loss: 0.0956 - val_accuracy: 0.9775\n",
      "Epoch 13/20\n",
      "375/375 [==============================] - 10s 28ms/step - loss: 0.0209 - accuracy: 0.9929 - val_loss: 0.0969 - val_accuracy: 0.9784\n",
      "Epoch 14/20\n",
      "375/375 [==============================] - 9s 25ms/step - loss: 0.0192 - accuracy: 0.9935 - val_loss: 0.0994 - val_accuracy: 0.9779\n",
      "Epoch 15/20\n",
      "375/375 [==============================] - 11s 29ms/step - loss: 0.0190 - accuracy: 0.9935 - val_loss: 0.1090 - val_accuracy: 0.9765\n",
      "Epoch 16/20\n",
      "375/375 [==============================] - 8s 22ms/step - loss: 0.0199 - accuracy: 0.9933 - val_loss: 0.0912 - val_accuracy: 0.9797\n",
      "Epoch 17/20\n",
      "375/375 [==============================] - 8s 20ms/step - loss: 0.0165 - accuracy: 0.9947 - val_loss: 0.0902 - val_accuracy: 0.9810\n",
      "Epoch 18/20\n",
      "375/375 [==============================] - 6s 17ms/step - loss: 0.0131 - accuracy: 0.9956 - val_loss: 0.1025 - val_accuracy: 0.9797\n",
      "Epoch 19/20\n",
      "375/375 [==============================] - 9s 24ms/step - loss: 0.0162 - accuracy: 0.9942 - val_loss: 0.1032 - val_accuracy: 0.9797\n",
      "Epoch 20/20\n",
      "375/375 [==============================] - 8s 20ms/step - loss: 0.0154 - accuracy: 0.9950 - val_loss: 0.1155 - val_accuracy: 0.9792\n"
     ]
    }
   ],
   "source": [
    "#Train the Model\n",
    "history = model.fit(x_train, y_train, epochs=20, batch_size=128, validation_split=0.2)\n"
   ]
  },
  {
   "cell_type": "markdown",
   "id": "de3b31b0",
   "metadata": {},
   "source": [
    "### Model Evaluation"
   ]
  },
  {
   "cell_type": "code",
   "execution_count": 15,
   "id": "e35ae266",
   "metadata": {},
   "outputs": [],
   "source": [
    "import matplotlib.pyplot as plt"
   ]
  },
  {
   "cell_type": "code",
   "execution_count": 16,
   "id": "44076eb2",
   "metadata": {},
   "outputs": [
    {
     "name": "stdout",
     "output_type": "stream",
     "text": [
      "313/313 [==============================] - 1s 3ms/step - loss: 0.0921 - accuracy: 0.9813\n",
      "Test accuracy :  0.9813\n"
     ]
    }
   ],
   "source": [
    "# Evaluate the model\n",
    "test_loss, test_acc = model.evaluate(x_test, y_test)\n",
    "print(f'Test accuracy : {test_acc: .4f}')"
   ]
  },
  {
   "cell_type": "code",
   "execution_count": 18,
   "id": "28ead9f6",
   "metadata": {},
   "outputs": [
    {
     "data": {
      "image/png": "[encoded data removed]",
      "text/plain": [
       "<Figure size 1200x400 with 2 Axes>"
      ]
     },
     "metadata": {},
     "output_type": "display_data"
    }
   ],
   "source": [
    "#Plot accuracy and loss over epochs\n",
    "plt.figure(figsize=(12,4))\n",
    "\n",
    "plt.subplot(1,2,1)\n",
    "plt.plot(history.history['accuracy'], label='train accuracy')\n",
    "plt.plot(history.history['val_accuracy'], label='validation accuracy')\n",
    "plt.xlabel('Epoch')\n",
    "plt.ylabel('Accuracy')\n",
    "plt.legend()\n",
    "plt.title('Accuracy over epochs')\n",
    "\n",
    "plt.subplot(1,2,2)\n",
    "plt.plot(history.history['loss'], label='train loss')\n",
    "plt.plot(history.history['val_loss'], label='validation loss')\n",
    "plt.xlabel('Epoch')\n",
    "plt.ylabel('loss')\n",
    "plt.legend()\n",
    "plt.title('Loss over epochs')\n",
    "\n",
    "plt.show()"
   ]
  },
  {
   "cell_type": "markdown",
   "id": "2823e0e9",
   "metadata": {},
   "source": [
    "### Model deployment"
   ]
  },
  {
   "cell_type": "code",
   "execution_count": 19,
   "id": "4572680a",
   "metadata": {},
   "outputs": [
    {
     "name": "stderr",
     "output_type": "stream",
     "text": [
      "C:\\Users\\Bhupendra Singh\\AppData\\Roaming\\Python\\Python310\\site-packages\\keras\\src\\engine\\training.py:3000: UserWarning: You are saving your model as an HDF5 file via `model.save()`. This file format is considered legacy. We recommend using instead the native Keras format, e.g. `model.save('my_model.keras')`.\n",
      "  saving_api.save_model(\n"
     ]
    }
   ],
   "source": [
    "#save the model\n",
    "model.save('mnist_ann_model.h5')"
   ]
  },
  {
   "cell_type": "code",
   "execution_count": 20,
   "id": "5f323c64",
   "metadata": {},
   "outputs": [],
   "source": [
    "#Load model for inference\n",
    "loaded_model = tf.keras.models.load_model('mnist_ann_model.h5')"
   ]
  },
  {
   "cell_type": "code",
   "execution_count": 21,
   "id": "29981ed2",
   "metadata": {},
   "outputs": [],
   "source": [
    "# Make Predictions\n",
    "import numpy as np"
   ]
  },
  {
   "cell_type": "code",
   "execution_count": 22,
   "id": "aa0bbffe",
   "metadata": {},
   "outputs": [
    {
     "name": "stdout",
     "output_type": "stream",
     "text": [
      "313/313 [==============================] - 2s 4ms/step\n"
     ]
    }
   ],
   "source": [
    "predictions = loaded_model.predict(x_test)\n",
    "predicted_classes = np.argmax(predictions, axis = 1)"
   ]
  },
  {
   "cell_type": "code",
   "execution_count": 23,
   "id": "2fc5892b",
   "metadata": {},
   "outputs": [],
   "source": [
    "# Compare with true labels\n",
    "true_classes = np.argmax(y_test, axis = 1)"
   ]
  },
  {
   "cell_type": "code",
   "execution_count": 24,
   "id": "212a261b",
   "metadata": {},
   "outputs": [
    {
     "name": "stdout",
     "output_type": "stream",
     "text": [
      "True label : 7, Predicted label: 7\n",
      "True label : 2, Predicted label: 2\n",
      "True label : 1, Predicted label: 1\n",
      "True label : 0, Predicted label: 0\n",
      "True label : 4, Predicted label: 4\n",
      "True label : 1, Predicted label: 1\n",
      "True label : 4, Predicted label: 4\n",
      "True label : 9, Predicted label: 9\n",
      "True label : 5, Predicted label: 6\n",
      "True label : 9, Predicted label: 9\n"
     ]
    }
   ],
   "source": [
    "# Print some predictions\n",
    "for i in range(10):\n",
    "    print(f'True label : {true_classes[i]}, Predicted label: {predicted_classes[i]}')"
   ]
  },
  {
   "cell_type": "code",
   "execution_count": null,
   "id": "7b84791f",
   "metadata": {},
   "outputs": [],
   "source": []
  }
 ],
 "metadata": {
  "kernelspec": {
   "display_name": "Python 3 (ipykernel)",
   "language": "python",
   "name": "python3"
  },
  "language_info": {
   "codemirror_mode": {
    "name": "ipython",
    "version": 3
   },
   "file_extension": ".py",
   "mimetype": "text/x-python",
   "name": "python",
   "nbconvert_exporter": "python",
   "pygments_lexer": "ipython3",
   "version": "3.10.9"
  }
 },
 "nbformat": 4,
 "nbformat_minor": 5
}
