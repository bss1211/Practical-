{
 "cells": [
  {
   "cell_type": "markdown",
   "id": "6c0de055",
   "metadata": {},
   "source": [
    "### Random Forest is a popular machine learning algorithm used for classification and regression tasks. It is an ensemble learning method that combines multiple decision trees to make more accurate predictions.\n",
    "\n",
    "Here's an example of how to use the Random Forest algorithm in Python for a classification task:"
   ]
  },
  {
   "cell_type": "code",
   "execution_count": 1,
   "id": "d9379e54",
   "metadata": {},
   "outputs": [],
   "source": [
    "import pandas as pd\n",
    "from sklearn.model_selection import train_test_split\n",
    "from sklearn.ensemble import RandomForestClassifier\n",
    "from sklearn.metrics import accuracy_score"
   ]
  },
  {
   "cell_type": "code",
   "execution_count": 2,
   "id": "a12a5a2b",
   "metadata": {},
   "outputs": [],
   "source": [
    "# load the dataset\n",
    "data = pd.read_csv('iris.csv')"
   ]
  },
  {
   "cell_type": "code",
   "execution_count": 5,
   "id": "980d953b",
   "metadata": {},
   "outputs": [
    {
     "data": {
      "text/plain": [
       "Index(['Id', 'SepalLengthCm', 'SepalWidthCm', 'PetalLengthCm', 'PetalWidthCm',\n",
       "       'Species'],\n",
       "      dtype='object')"
      ]
     },
     "execution_count": 5,
     "metadata": {},
     "output_type": "execute_result"
    }
   ],
   "source": [
    "data.columns"
   ]
  },
  {
   "cell_type": "code",
   "execution_count": 6,
   "id": "79c35ca0",
   "metadata": {},
   "outputs": [],
   "source": [
    "# separate the features and target variable\n",
    "X = data.drop('Species', axis=1)\n",
    "y = data['Species']"
   ]
  },
  {
   "cell_type": "code",
   "execution_count": 7,
   "id": "41f3bce0",
   "metadata": {},
   "outputs": [],
   "source": [
    "# split the dataset into training and testing sets\n",
    "X_train, X_test, y_train, y_test = train_test_split(X, y, test_size=0.3, random_state=42)"
   ]
  },
  {
   "cell_type": "code",
   "execution_count": 8,
   "id": "607334ba",
   "metadata": {},
   "outputs": [],
   "source": [
    "# create a Random Forest classifier with 100 trees\n",
    "rf = RandomForestClassifier(n_estimators=100, random_state=42)"
   ]
  },
  {
   "cell_type": "code",
   "execution_count": 9,
   "id": "ea1eecda",
   "metadata": {},
   "outputs": [
    {
     "data": {
      "text/plain": [
       "RandomForestClassifier(random_state=42)"
      ]
     },
     "execution_count": 9,
     "metadata": {},
     "output_type": "execute_result"
    }
   ],
   "source": [
    "# train the classifier on the training set\n",
    "rf.fit(X_train, y_train)"
   ]
  },
  {
   "cell_type": "code",
   "execution_count": 10,
   "id": "78d46b73",
   "metadata": {},
   "outputs": [],
   "source": [
    "# make predictions on the testing set\n",
    "y_pred = rf.predict(X_test)"
   ]
  },
  {
   "cell_type": "code",
   "execution_count": 11,
   "id": "2a638994",
   "metadata": {},
   "outputs": [
    {
     "name": "stdout",
     "output_type": "stream",
     "text": [
      "Accuracy: 1.0\n"
     ]
    }
   ],
   "source": [
    "# calculate the accuracy of the classifier\n",
    "accuracy = accuracy_score(y_test, y_pred)\n",
    "print('Accuracy:', accuracy)"
   ]
  },
  {
   "cell_type": "markdown",
   "id": "1ca8532a",
   "metadata": {},
   "source": [
    "In this example, we first load the iris dataset from a CSV file using Pandas. The dataset contains information about the physical characteristics of different types of iris flowers, and the target variable is the species of the flower. We then split the dataset into training and testing sets using the train_test_split function from Scikit-learn.\n",
    "\n",
    "Next, we create a Random Forest classifier using the RandomForestClassifier class from Scikit-learn. We specify the number of trees in the forest using the n_estimators parameter, and set the random_state parameter for reproducibility.\n",
    "\n",
    "We then train the Random Forest classifier on the training set using the fit method, and make predictions on the testing set using the predict method. Finally, we calculate the accuracy of the classifier using the accuracy_score function from Scikit-learn.\n",
    "\n",
    "The Random Forest algorithm works by creating multiple decision trees, each of which is trained on a random subset of the training data and a random subset of the features. The final prediction is made by combining the predictions of all the trees in the forest using majority voting (for classification) or averaging (for regression).\n",
    "\n",
    "Random Forest is a powerful and flexible algorithm that can handle both classification and regression tasks, and can be used in a wide range of applications."
   ]
  },
  {
   "cell_type": "code",
   "execution_count": null,
   "id": "48f8efb0",
   "metadata": {},
   "outputs": [],
   "source": []
  }
 ],
 "metadata": {
  "kernelspec": {
   "display_name": "Python 3 (ipykernel)",
   "language": "python",
   "name": "python3"
  },
  "language_info": {
   "codemirror_mode": {
    "name": "ipython",
    "version": 3
   },
   "file_extension": ".py",
   "mimetype": "text/x-python",
   "name": "python",
   "nbconvert_exporter": "python",
   "pygments_lexer": "ipython3",
   "version": "3.8.8"
  }
 },
 "nbformat": 4,
 "nbformat_minor": 5
}
