{
 "cells": [
  {
   "cell_type": "code",
   "execution_count": 1,
   "id": "b7029b8e",
   "metadata": {},
   "outputs": [],
   "source": [
    "import cv2"
   ]
  },
  {
   "cell_type": "code",
   "execution_count": 2,
   "id": "8c7d664d",
   "metadata": {},
   "outputs": [],
   "source": [
    "video1 = cv2.VideoCapture('Trx5 part A...l.mp4')\n",
    "video2 = cv2.VideoCapture('trx5 part b...r.mp4')"
   ]
  },
  {
   "cell_type": "code",
   "execution_count": 3,
   "id": "4521d508",
   "metadata": {},
   "outputs": [],
   "source": [
    "#ffmpeg -i output.mp4"
   ]
  },
  {
   "cell_type": "code",
   "execution_count": 4,
   "id": "64db1689",
   "metadata": {},
   "outputs": [],
   "source": [
    "#install -c conda-forge ffmpeg"
   ]
  },
  {
   "cell_type": "code",
   "execution_count": 5,
   "id": "4b3432d8",
   "metadata": {},
   "outputs": [],
   "source": [
    "# Create a VideoWriter object\n",
    "fourcc = cv2.VideoWriter_fourcc(*'mp4v')\n",
    "out = cv2.VideoWriter('output2.mp4', fourcc, 30, (640, 480))\n",
    "\n",
    "# Create an ORB object\n",
    "orb = cv2.ORB_create()\n",
    "\n",
    "# Read a frame from the first video\n",
    "_, frame1 = video1.read()\n",
    "\n",
    "# Detect keypoints and compute descriptors for the first frame\n",
    "kp1, des1 = orb.detectAndCompute(frame1, None)\n",
    "\n",
    "while True:\n",
    "    # Read a frame from the synchronized videos\n",
    "    _, frame2 = video2.read()\n",
    "    _, frame1 = video1.read()\n",
    "    if frame1 is None or frame2 is None:\n",
    "        break\n",
    "    \n",
    "    # Detect keypoints and compute descriptors for the current frame\n",
    "    kp2, des2 = orb.detectAndCompute(frame2, None)\n",
    "    \n",
    "    # Match the descriptors between the frames\n",
    "    bf = cv2.BFMatcher(cv2.NORM_HAMMING, crossCheck=True)\n",
    "    matches = bf.match(des1, des2)\n",
    "    \n",
    "    # Draw the matched keypoints\n",
    "    match_img = cv2.drawMatches(frame1, kp1, frame2, kp2, matches, None, flags=cv2.DrawMatchesFlags_NOT_DRAW_SINGLE_POINTS)\n",
    "    \n",
    "    # Write the frame to the output video file\n",
    "    out.write(match_img)\n",
    "    \n",
    "    # Display the image\n",
    "    cv2.imshow('Matches', match_img)\n",
    "    if cv2.waitKey(1) == ord('q'):\n",
    "        break\n",
    "\n",
    "# Release the videos, the output video, and destroy the windows\n",
    "video1.release()\n",
    "video2.release()\n",
    "out.release()\n",
    "cv2.destroyAllWindows()"
   ]
  },
  {
   "cell_type": "markdown",
   "id": "09ebd163",
   "metadata": {},
   "source": [
    "# Create a VideoWriter object\n",
    "out.open('output1.mp4', fourcc, 30, (640, 480))\n",
    "fourcc = cv2.VideoWriter_fourcc(*'mp4v')\n",
    "out = cv2.VideoWriter('output1.mp4', fourcc, 30, (640, 480))\n",
    "#out.open('output1.mp4', fourcc, 30, (640, 480))\n",
    "#out.release()\n",
    "\n",
    "# Create an ORB object\n",
    "orb = cv2.ORB_create()\n",
    "\n",
    "# Read a frame from the first video\n",
    "_, frame1 = video1.read()\n",
    "\n",
    "# Detect keypoints and compute descriptors for the first frame\n",
    "kp1, des1 = orb.detectAndCompute(frame1, None)\n",
    "\n",
    "while True:\n",
    "    # Read a frame from the synchronized videos\n",
    "    _, frame2 = video2.read()\n",
    "    _, frame1 = video1.read()\n",
    "    if frame1 is None or frame2 is None:\n",
    "        break\n",
    "    \n",
    "    # Detect keypoints and compute descriptors for the current frame\n",
    "    kp2, des2 = orb.detectAndCompute(frame2, None)\n",
    "    \n",
    "    # Match the descriptors between the frames\n",
    "    bf = cv2.BFMatcher(cv2.NORM_HAMMING, crossCheck=True)\n",
    "    matches = bf.match(des1, des2)\n",
    "    \n",
    "    # Draw the matched keypoints\n",
    "    match_img = cv2.drawMatches(frame1, kp1, frame2, kp2, matches, None, flags=cv2.DrawMatchesFlags_NOT_DRAW_SINGLE_POINTS)\n",
    "    \n",
    "    # Write the frame to the output video file\n",
    "    out.write(match_img)\n",
    "    \n",
    "    # Display the image\n",
    "    cv2.imshow('Matches', match_img)\n",
    "    if cv2.waitKey(1) == ord('q'):\n",
    "        break\n",
    "\n",
    "# Release the videos, the output video, and destroy the windows\n",
    "video1.release()\n",
    "video2.release()\n",
    "out.release()\n",
    "out.write(match_img)\n",
    "cv2.imshow('Matches', match_img)\n",
    "cv2.waitKey(1)\n",
    "cv2.destroyAllWindows()\n"
   ]
  },
  {
   "cell_type": "code",
   "execution_count": null,
   "id": "3c55dcec",
   "metadata": {},
   "outputs": [],
   "source": []
  },
  {
   "cell_type": "markdown",
   "id": "4fbb7ed7",
   "metadata": {},
   "source": [
    "# Create an ORB object\n",
    "orb = cv2.ORB_create()\n",
    "\n",
    "# Read a frame from the first video\n",
    "_, frame1 = video1.read()\n",
    "\n",
    "# Detect keypoints and compute descriptors for the first frame\n",
    "kp1, des1 = orb.detectAndCompute(frame1, None)\n",
    "\n",
    "while True:\n",
    "    # Read a frame from the synchronized videos\n",
    "    _, frame2 = video2.read()\n",
    "    _, frame1 = video1.read()\n",
    "    if frame1 is None or frame2 is None:\n",
    "        break\n",
    "    \n",
    "    # Detect keypoints and compute descriptors for the current frame\n",
    "    kp2, des2 = orb.detectAndCompute(frame2, None)\n",
    "    \n",
    "    # Match the descriptors between the frames\n",
    "    bf = cv2.BFMatcher(cv2.NORM_HAMMING, crossCheck=True)\n",
    "    matches = bf.match(des1, des2)\n",
    "    \n",
    "    # Draw the matched keypoints\n",
    "    match_img = cv2.drawMatches(frame1, kp1, frame2, kp2, matches, None, flags=cv2.DrawMatchesFlags_NOT_DRAW_SINGLE_POINTS)\n",
    "    \n",
    "    # Display the image\n",
    "    cv2.imshow('Matches', match_img)\n",
    "    if cv2.waitKey(1) == ord('q'):\n",
    "        break\n",
    "\n",
    "# Release the videos and destroy the windows\n",
    "video1.release()\n",
    "video2.release()\n",
    "cv2.destroyAllWindows()\n"
   ]
  },
  {
   "cell_type": "markdown",
   "id": "43fb62b9",
   "metadata": {},
   "source": [
    "surf = cv2.xfeatures2d.SURF_create()\n",
    "\n",
    "_, frame1 = video1.read()\n",
    "kp1, des1 = surf.detectAndCompute(frame1, None)\n",
    "\n",
    "_, frame2 = video2.read()\n",
    "kp2, des2 = surf.detectAndCompute(frame2, None)"
   ]
  },
  {
   "cell_type": "code",
   "execution_count": null,
   "id": "24f4e028",
   "metadata": {},
   "outputs": [],
   "source": []
  }
 ],
 "metadata": {
  "kernelspec": {
   "display_name": "Python 3 (ipykernel)",
   "language": "python",
   "name": "python3"
  },
  "language_info": {
   "codemirror_mode": {
    "name": "ipython",
    "version": 3
   },
   "file_extension": ".py",
   "mimetype": "text/x-python",
   "name": "python",
   "nbconvert_exporter": "python",
   "pygments_lexer": "ipython3",
   "version": "3.8.8"
  }
 },
 "nbformat": 4,
 "nbformat_minor": 5
}
