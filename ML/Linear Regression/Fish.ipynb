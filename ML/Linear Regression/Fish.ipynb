{
 "cells": [
  {
   "cell_type": "markdown",
   "metadata": {},
   "source": [
    "### Fish data (Predicting weight of the fish)\n",
    "\n",
    "##### Linear regression model used"
   ]
  },
  {
   "cell_type": "code",
   "execution_count": 1,
   "metadata": {},
   "outputs": [],
   "source": [
    "import pandas as pd\n",
    "import matplotlib as plt\n",
    "from sklearn import linear_model\n",
    "\n",
    "import warnings\n",
    "warnings.filterwarnings('ignore')\n",
    "import numpy as np\n",
    "\n",
    "import seaborn as sns\n",
    "import joblib\n",
    "\n",
    "from sklearn.model_selection import train_test_split\n",
    "from sklearn.preprocessing import OneHotEncoder, StandardScaler\n",
    "from sklearn.impute import SimpleImputer\n",
    "from sklearn.pipeline import Pipeline\n",
    "from sklearn.compose import ColumnTransformer\n",
    "from sklearn.linear_model import ElasticNet, Ridge, Lasso\n",
    "from sklearn.model_selection import cross_val_score, KFold, RandomizedSearchCV\n",
    "from sklearn.metrics import r2_score\n",
    "from sklearn.utils import estimator_html_repr\n",
    "from sklearn import set_config\n",
    "set_config(display='diagram')\n"
   ]
  },
  {
   "cell_type": "markdown",
   "metadata": {},
   "source": [
    "#### Import data"
   ]
  },
  {
   "cell_type": "code",
   "execution_count": 2,
   "metadata": {},
   "outputs": [
    {
     "data": {
      "text/html": [
       "<div>\n",
       "<style scoped>\n",
       "    .dataframe tbody tr th:only-of-type {\n",
       "        vertical-align: middle;\n",
       "    }\n",
       "\n",
       "    .dataframe tbody tr th {\n",
       "        vertical-align: top;\n",
       "    }\n",
       "\n",
       "    .dataframe thead th {\n",
       "        text-align: right;\n",
       "    }\n",
       "</style>\n",
       "<table border=\"1\" class=\"dataframe\">\n",
       "  <thead>\n",
       "    <tr style=\"text-align: right;\">\n",
       "      <th></th>\n",
       "      <th>Species</th>\n",
       "      <th>Weight</th>\n",
       "      <th>Length1</th>\n",
       "      <th>Length2</th>\n",
       "      <th>Length3</th>\n",
       "      <th>Height</th>\n",
       "      <th>Width</th>\n",
       "    </tr>\n",
       "  </thead>\n",
       "  <tbody>\n",
       "    <tr>\n",
       "      <th>0</th>\n",
       "      <td>Bream</td>\n",
       "      <td>242.0</td>\n",
       "      <td>23.2</td>\n",
       "      <td>25.4</td>\n",
       "      <td>30.0</td>\n",
       "      <td>11.5200</td>\n",
       "      <td>4.0200</td>\n",
       "    </tr>\n",
       "    <tr>\n",
       "      <th>1</th>\n",
       "      <td>Bream</td>\n",
       "      <td>290.0</td>\n",
       "      <td>24.0</td>\n",
       "      <td>26.3</td>\n",
       "      <td>31.2</td>\n",
       "      <td>12.4800</td>\n",
       "      <td>4.3056</td>\n",
       "    </tr>\n",
       "    <tr>\n",
       "      <th>2</th>\n",
       "      <td>Bream</td>\n",
       "      <td>340.0</td>\n",
       "      <td>23.9</td>\n",
       "      <td>26.5</td>\n",
       "      <td>31.1</td>\n",
       "      <td>12.3778</td>\n",
       "      <td>4.6961</td>\n",
       "    </tr>\n",
       "    <tr>\n",
       "      <th>3</th>\n",
       "      <td>Bream</td>\n",
       "      <td>363.0</td>\n",
       "      <td>26.3</td>\n",
       "      <td>29.0</td>\n",
       "      <td>33.5</td>\n",
       "      <td>12.7300</td>\n",
       "      <td>4.4555</td>\n",
       "    </tr>\n",
       "    <tr>\n",
       "      <th>4</th>\n",
       "      <td>Bream</td>\n",
       "      <td>430.0</td>\n",
       "      <td>26.5</td>\n",
       "      <td>29.0</td>\n",
       "      <td>34.0</td>\n",
       "      <td>12.4440</td>\n",
       "      <td>5.1340</td>\n",
       "    </tr>\n",
       "  </tbody>\n",
       "</table>\n",
       "</div>"
      ],
      "text/plain": [
       "  Species  Weight  Length1  Length2  Length3   Height   Width\n",
       "0   Bream   242.0     23.2     25.4     30.0  11.5200  4.0200\n",
       "1   Bream   290.0     24.0     26.3     31.2  12.4800  4.3056\n",
       "2   Bream   340.0     23.9     26.5     31.1  12.3778  4.6961\n",
       "3   Bream   363.0     26.3     29.0     33.5  12.7300  4.4555\n",
       "4   Bream   430.0     26.5     29.0     34.0  12.4440  5.1340"
      ]
     },
     "execution_count": 2,
     "metadata": {},
     "output_type": "execute_result"
    }
   ],
   "source": [
    "df = pd.read_csv('Fish.csv')\n",
    "df.head()"
   ]
  },
  {
   "cell_type": "code",
   "execution_count": 3,
   "metadata": {},
   "outputs": [
    {
     "name": "stdout",
     "output_type": "stream",
     "text": [
      "<class 'pandas.core.frame.DataFrame'>\n",
      "RangeIndex: 159 entries, 0 to 158\n",
      "Data columns (total 7 columns):\n",
      " #   Column   Non-Null Count  Dtype  \n",
      "---  ------   --------------  -----  \n",
      " 0   Species  159 non-null    object \n",
      " 1   Weight   159 non-null    float64\n",
      " 2   Length1  159 non-null    float64\n",
      " 3   Length2  159 non-null    float64\n",
      " 4   Length3  159 non-null    float64\n",
      " 5   Height   159 non-null    float64\n",
      " 6   Width    159 non-null    float64\n",
      "dtypes: float64(6), object(1)\n",
      "memory usage: 8.8+ KB\n"
     ]
    }
   ],
   "source": [
    "df.info()"
   ]
  },
  {
   "cell_type": "code",
   "execution_count": 4,
   "metadata": {},
   "outputs": [
    {
     "data": {
      "text/plain": [
       "(159, 7)"
      ]
     },
     "execution_count": 4,
     "metadata": {},
     "output_type": "execute_result"
    }
   ],
   "source": [
    "df.shape"
   ]
  },
  {
   "cell_type": "code",
   "execution_count": 5,
   "metadata": {},
   "outputs": [
    {
     "data": {
      "text/plain": [
       "<matplotlib.axes._subplots.AxesSubplot at 0x1a53eb00ee0>"
      ]
     },
     "execution_count": 5,
     "metadata": {},
     "output_type": "execute_result"
    },
    {
     "data": {
      "image/png": "[encoded data removed]",
      "text/plain": [
       "<Figure size 432x288 with 2 Axes>"
      ]
     },
     "metadata": {
      "needs_background": "light"
     },
     "output_type": "display_data"
    }
   ],
   "source": [
    "sns.heatmap(df.corr(),annot=True)"
   ]
  },
  {
   "cell_type": "code",
   "execution_count": 6,
   "metadata": {},
   "outputs": [
    {
     "data": {
      "text/plain": [
       "Species    0\n",
       "Weight     0\n",
       "Length1    0\n",
       "Length2    0\n",
       "Length3    0\n",
       "Height     0\n",
       "Width      0\n",
       "dtype: int64"
      ]
     },
     "execution_count": 6,
     "metadata": {},
     "output_type": "execute_result"
    }
   ],
   "source": [
    "df.isnull().sum()"
   ]
  },
  {
   "cell_type": "code",
   "execution_count": 7,
   "metadata": {},
   "outputs": [],
   "source": [
    "Y = pd.DataFrame(df['Weight'],columns=['Weight'])\n",
    "\n",
    "X = df.drop(columns=['Weight'])"
   ]
  },
  {
   "cell_type": "code",
   "execution_count": 8,
   "metadata": {},
   "outputs": [],
   "source": [
    "cat_feat = [feature for feature in X.columns if X[feature].dtypes == 'O']\n",
    "\n",
    "num_feat = [feature for feature in X.columns if feature not in cat_feat]"
   ]
  },
  {
   "cell_type": "code",
   "execution_count": 9,
   "metadata": {},
   "outputs": [],
   "source": [
    "x_train, x_test, y_train, y_test = train_test_split(X,Y,test_size=0.2,random_state=1232)"
   ]
  },
  {
   "cell_type": "code",
   "execution_count": 10,
   "metadata": {},
   "outputs": [],
   "source": [
    "SimpleImputer.get_feature_names_out = (lambda self, names=None:\n",
    "                                       self.feature_names_in_)"
   ]
  },
  {
   "cell_type": "code",
   "execution_count": 11,
   "metadata": {},
   "outputs": [],
   "source": [
    "cat_pipe = Pipeline([\n",
    "            \n",
    "            ('cat_imputer',SimpleImputer(strategy=\"most_frequent\")),\n",
    "            ('one_hot_encoder',OneHotEncoder())\n",
    "    \n",
    "        ])\n",
    " \n",
    "num_pipe = Pipeline([\n",
    "     \n",
    "             ('num_imputer',SimpleImputer(strategy=\"median\")),\n",
    "             ('std_scalar',StandardScaler())\n",
    "        ])"
   ]
  },
  {
   "cell_type": "code",
   "execution_count": 12,
   "metadata": {},
   "outputs": [],
   "source": [
    "preprocessing_pipe = ColumnTransformer([\n",
    "            \n",
    "            ('cat',cat_pipe,cat_feat),\n",
    "            ('num',num_pipe,num_feat)\n",
    "    \n",
    "        ],remainder=\"passthrough\")"
   ]
  },
  {
   "cell_type": "code",
   "execution_count": 13,
   "metadata": {},
   "outputs": [],
   "source": [
    "model_pipe1 = Pipeline([\n",
    "\n",
    "        ('model1',Ridge(random_state=123))\n",
    "])\n",
    "\n",
    "model_pipe2 = Pipeline([\n",
    "\n",
    "        ('model2',Lasso(random_state=124))\n",
    "])\n",
    "\n",
    "model_pipe3 = Pipeline([\n",
    "    \n",
    "            (\"model3\",ElasticNet(random_state=243))    \n",
    "    \n",
    "])"
   ]
  },
  {
   "cell_type": "code",
   "execution_count": 14,
   "metadata": {},
   "outputs": [],
   "source": [
    "full_pipeline1 = Pipeline([\n",
    "            \n",
    "            ('preprocessing',preprocessing_pipe),\n",
    "            ('model_training1',model_pipe1)\n",
    "    \n",
    "    ])\n",
    "\n",
    "full_pipeline2 = Pipeline([\n",
    "            \n",
    "            ('preprocessing',preprocessing_pipe),\n",
    "            ('model_training2',model_pipe2)\n",
    "    \n",
    "    ])\n",
    "\n",
    "full_pipeline3 = Pipeline([\n",
    "            \n",
    "            ('preprocessing',preprocessing_pipe),\n",
    "            ('model_training3',model_pipe3)\n",
    "    \n",
    "    ])"
   ]
  },
  {
   "cell_type": "code",
   "execution_count": 15,
   "metadata": {},
   "outputs": [
    {
     "data": {
      "text/html": [
       "<style>div.sk-top-container {color: black;background-color: white;}div.sk-toggleable {background-color: white;}label.sk-toggleable__label {cursor: pointer;display: block;width: 100%;margin-bottom: 0;padding: 0.2em 0.3em;box-sizing: border-box;text-align: center;}div.sk-toggleable__content {max-height: 0;max-width: 0;overflow: hidden;text-align: left;background-color: #f0f8ff;}div.sk-toggleable__content pre {margin: 0.2em;color: black;border-radius: 0.25em;background-color: #f0f8ff;}input.sk-toggleable__control:checked~div.sk-toggleable__content {max-height: 200px;max-width: 100%;overflow: auto;}div.sk-estimator input.sk-toggleable__control:checked~label.sk-toggleable__label {background-color: #d4ebff;}div.sk-label input.sk-toggleable__control:checked~label.sk-toggleable__label {background-color: #d4ebff;}input.sk-hidden--visually {border: 0;clip: rect(1px 1px 1px 1px);clip: rect(1px, 1px, 1px, 1px);height: 1px;margin: -1px;overflow: hidden;padding: 0;position: absolute;width: 1px;}div.sk-estimator {font-family: monospace;background-color: #f0f8ff;margin: 0.25em 0.25em;border: 1px dotted black;border-radius: 0.25em;box-sizing: border-box;}div.sk-estimator:hover {background-color: #d4ebff;}div.sk-parallel-item::after {content: \"\";width: 100%;border-bottom: 1px solid gray;flex-grow: 1;}div.sk-label:hover label.sk-toggleable__label {background-color: #d4ebff;}div.sk-serial::before {content: \"\";position: absolute;border-left: 1px solid gray;box-sizing: border-box;top: 2em;bottom: 0;left: 50%;}div.sk-serial {display: flex;flex-direction: column;align-items: center;background-color: white;}div.sk-item {z-index: 1;}div.sk-parallel {display: flex;align-items: stretch;justify-content: center;background-color: white;}div.sk-parallel-item {display: flex;flex-direction: column;position: relative;background-color: white;}div.sk-parallel-item:first-child::after {align-self: flex-end;width: 50%;}div.sk-parallel-item:last-child::after {align-self: flex-start;width: 50%;}div.sk-parallel-item:only-child::after {width: 0;}div.sk-dashed-wrapped {border: 1px dashed gray;margin: 0.2em;box-sizing: border-box;padding-bottom: 0.1em;background-color: white;position: relative;}div.sk-label label {font-family: monospace;font-weight: bold;background-color: white;display: inline-block;line-height: 1.2em;}div.sk-label-container {position: relative;z-index: 2;text-align: center;}div.sk-container {display: inline-block;position: relative;}</style><div class=\"sk-top-container\"><div class=\"sk-container\"><div class=\"sk-item sk-dashed-wrapped\"><div class=\"sk-label-container\"><div class=\"sk-label sk-toggleable\"><input class=\"sk-toggleable__control sk-hidden--visually\" id=\"f40b95fb-61a9-4d2c-88c4-a7c59c9148dd\" type=\"checkbox\" ><label class=\"sk-toggleable__label\" for=\"f40b95fb-61a9-4d2c-88c4-a7c59c9148dd\">Pipeline</label><div class=\"sk-toggleable__content\"><pre>Pipeline(steps=[('preprocessing',\n",
       "                 ColumnTransformer(remainder='passthrough',\n",
       "                                   transformers=[('cat',\n",
       "                                                  Pipeline(steps=[('cat_imputer',\n",
       "                                                                   SimpleImputer(strategy='most_frequent')),\n",
       "                                                                  ('one_hot_encoder',\n",
       "                                                                   OneHotEncoder())]),\n",
       "                                                  ['Species']),\n",
       "                                                 ('num',\n",
       "                                                  Pipeline(steps=[('num_imputer',\n",
       "                                                                   SimpleImputer(strategy='median')),\n",
       "                                                                  ('std_scalar',\n",
       "                                                                   StandardScaler())]),\n",
       "                                                  ['Length1', 'Length2',\n",
       "                                                   'Length3', 'Height',\n",
       "                                                   'Width'])])),\n",
       "                ('model_training1',\n",
       "                 Pipeline(steps=[('model1', Ridge(random_state=123))]))])</pre></div></div></div><div class=\"sk-serial\"><div class=\"sk-item sk-dashed-wrapped\"><div class=\"sk-label-container\"><div class=\"sk-label sk-toggleable\"><input class=\"sk-toggleable__control sk-hidden--visually\" id=\"a027cf90-bee3-4f8c-a4aa-af8fceda518e\" type=\"checkbox\" ><label class=\"sk-toggleable__label\" for=\"a027cf90-bee3-4f8c-a4aa-af8fceda518e\">preprocessing: ColumnTransformer</label><div class=\"sk-toggleable__content\"><pre>ColumnTransformer(remainder='passthrough',\n",
       "                  transformers=[('cat',\n",
       "                                 Pipeline(steps=[('cat_imputer',\n",
       "                                                  SimpleImputer(strategy='most_frequent')),\n",
       "                                                 ('one_hot_encoder',\n",
       "                                                  OneHotEncoder())]),\n",
       "                                 ['Species']),\n",
       "                                ('num',\n",
       "                                 Pipeline(steps=[('num_imputer',\n",
       "                                                  SimpleImputer(strategy='median')),\n",
       "                                                 ('std_scalar',\n",
       "                                                  StandardScaler())]),\n",
       "                                 ['Length1', 'Length2', 'Length3', 'Height',\n",
       "                                  'Width'])])</pre></div></div></div><div class=\"sk-parallel\"><div class=\"sk-parallel-item\"><div class=\"sk-item\"><div class=\"sk-label-container\"><div class=\"sk-label sk-toggleable\"><input class=\"sk-toggleable__control sk-hidden--visually\" id=\"97c871f1-5fee-4212-88c6-eb113d40ed05\" type=\"checkbox\" ><label class=\"sk-toggleable__label\" for=\"97c871f1-5fee-4212-88c6-eb113d40ed05\">cat</label><div class=\"sk-toggleable__content\"><pre>['Species']</pre></div></div></div><div class=\"sk-serial\"><div class=\"sk-item\"><div class=\"sk-serial\"><div class=\"sk-item\"><div class=\"sk-estimator sk-toggleable\"><input class=\"sk-toggleable__control sk-hidden--visually\" id=\"c82b7c83-7742-41a0-99a6-e8eb3326db7b\" type=\"checkbox\" ><label class=\"sk-toggleable__label\" for=\"c82b7c83-7742-41a0-99a6-e8eb3326db7b\">SimpleImputer</label><div class=\"sk-toggleable__content\"><pre>SimpleImputer(strategy='most_frequent')</pre></div></div></div><div class=\"sk-item\"><div class=\"sk-estimator sk-toggleable\"><input class=\"sk-toggleable__control sk-hidden--visually\" id=\"69d7fa5e-ed0e-49a9-a6b4-0aa6db2a296f\" type=\"checkbox\" ><label class=\"sk-toggleable__label\" for=\"69d7fa5e-ed0e-49a9-a6b4-0aa6db2a296f\">OneHotEncoder</label><div class=\"sk-toggleable__content\"><pre>OneHotEncoder()</pre></div></div></div></div></div></div></div></div><div class=\"sk-parallel-item\"><div class=\"sk-item\"><div class=\"sk-label-container\"><div class=\"sk-label sk-toggleable\"><input class=\"sk-toggleable__control sk-hidden--visually\" id=\"e5605368-dd98-4616-a05c-f7dd99781c66\" type=\"checkbox\" ><label class=\"sk-toggleable__label\" for=\"e5605368-dd98-4616-a05c-f7dd99781c66\">num</label><div class=\"sk-toggleable__content\"><pre>['Length1', 'Length2', 'Length3', 'Height', 'Width']</pre></div></div></div><div class=\"sk-serial\"><div class=\"sk-item\"><div class=\"sk-serial\"><div class=\"sk-item\"><div class=\"sk-estimator sk-toggleable\"><input class=\"sk-toggleable__control sk-hidden--visually\" id=\"475c7aa1-30e3-4ed2-be96-8fef8aa214b1\" type=\"checkbox\" ><label class=\"sk-toggleable__label\" for=\"475c7aa1-30e3-4ed2-be96-8fef8aa214b1\">SimpleImputer</label><div class=\"sk-toggleable__content\"><pre>SimpleImputer(strategy='median')</pre></div></div></div><div class=\"sk-item\"><div class=\"sk-estimator sk-toggleable\"><input class=\"sk-toggleable__control sk-hidden--visually\" id=\"f18f1884-8bb2-4833-b00b-1a0cbff83d05\" type=\"checkbox\" ><label class=\"sk-toggleable__label\" for=\"f18f1884-8bb2-4833-b00b-1a0cbff83d05\">StandardScaler</label><div class=\"sk-toggleable__content\"><pre>StandardScaler()</pre></div></div></div></div></div></div></div></div></div></div><div class=\"sk-item\"><div class=\"sk-label-container\"><div class=\"sk-label sk-toggleable\"><input class=\"sk-toggleable__control sk-hidden--visually\" id=\"be12f921-183c-4530-9054-13580b5fd72e\" type=\"checkbox\" ><label class=\"sk-toggleable__label\" for=\"be12f921-183c-4530-9054-13580b5fd72e\">model_training1: Pipeline</label><div class=\"sk-toggleable__content\"><pre>Pipeline(steps=[('model1', Ridge(random_state=123))])</pre></div></div></div><div class=\"sk-serial\"><div class=\"sk-item\"><div class=\"sk-estimator sk-toggleable\"><input class=\"sk-toggleable__control sk-hidden--visually\" id=\"c02f410f-0ac4-47d9-add5-a494afb9a0b1\" type=\"checkbox\" ><label class=\"sk-toggleable__label\" for=\"c02f410f-0ac4-47d9-add5-a494afb9a0b1\">Ridge</label><div class=\"sk-toggleable__content\"><pre>Ridge(random_state=123)</pre></div></div></div></div></div></div></div></div></div>"
      ],
      "text/plain": [
       "Pipeline(steps=[('preprocessing',\n",
       "                 ColumnTransformer(remainder='passthrough',\n",
       "                                   transformers=[('cat',\n",
       "                                                  Pipeline(steps=[('cat_imputer',\n",
       "                                                                   SimpleImputer(strategy='most_frequent')),\n",
       "                                                                  ('one_hot_encoder',\n",
       "                                                                   OneHotEncoder())]),\n",
       "                                                  ['Species']),\n",
       "                                                 ('num',\n",
       "                                                  Pipeline(steps=[('num_imputer',\n",
       "                                                                   SimpleImputer(strategy='median')),\n",
       "                                                                  ('std_scalar',\n",
       "                                                                   StandardScaler())]),\n",
       "                                                  ['Length1', 'Length2',\n",
       "                                                   'Length3', 'Height',\n",
       "                                                   'Width'])])),\n",
       "                ('model_training1',\n",
       "                 Pipeline(steps=[('model1', Ridge(random_state=123))]))])"
      ]
     },
     "execution_count": 15,
     "metadata": {},
     "output_type": "execute_result"
    }
   ],
   "source": [
    "full_pipeline1"
   ]
  },
  {
   "cell_type": "code",
   "execution_count": 16,
   "metadata": {},
   "outputs": [
    {
     "data": {
      "text/html": [
       "<style>div.sk-top-container {color: black;background-color: white;}div.sk-toggleable {background-color: white;}label.sk-toggleable__label {cursor: pointer;display: block;width: 100%;margin-bottom: 0;padding: 0.2em 0.3em;box-sizing: border-box;text-align: center;}div.sk-toggleable__content {max-height: 0;max-width: 0;overflow: hidden;text-align: left;background-color: #f0f8ff;}div.sk-toggleable__content pre {margin: 0.2em;color: black;border-radius: 0.25em;background-color: #f0f8ff;}input.sk-toggleable__control:checked~div.sk-toggleable__content {max-height: 200px;max-width: 100%;overflow: auto;}div.sk-estimator input.sk-toggleable__control:checked~label.sk-toggleable__label {background-color: #d4ebff;}div.sk-label input.sk-toggleable__control:checked~label.sk-toggleable__label {background-color: #d4ebff;}input.sk-hidden--visually {border: 0;clip: rect(1px 1px 1px 1px);clip: rect(1px, 1px, 1px, 1px);height: 1px;margin: -1px;overflow: hidden;padding: 0;position: absolute;width: 1px;}div.sk-estimator {font-family: monospace;background-color: #f0f8ff;margin: 0.25em 0.25em;border: 1px dotted black;border-radius: 0.25em;box-sizing: border-box;}div.sk-estimator:hover {background-color: #d4ebff;}div.sk-parallel-item::after {content: \"\";width: 100%;border-bottom: 1px solid gray;flex-grow: 1;}div.sk-label:hover label.sk-toggleable__label {background-color: #d4ebff;}div.sk-serial::before {content: \"\";position: absolute;border-left: 1px solid gray;box-sizing: border-box;top: 2em;bottom: 0;left: 50%;}div.sk-serial {display: flex;flex-direction: column;align-items: center;background-color: white;}div.sk-item {z-index: 1;}div.sk-parallel {display: flex;align-items: stretch;justify-content: center;background-color: white;}div.sk-parallel-item {display: flex;flex-direction: column;position: relative;background-color: white;}div.sk-parallel-item:first-child::after {align-self: flex-end;width: 50%;}div.sk-parallel-item:last-child::after {align-self: flex-start;width: 50%;}div.sk-parallel-item:only-child::after {width: 0;}div.sk-dashed-wrapped {border: 1px dashed gray;margin: 0.2em;box-sizing: border-box;padding-bottom: 0.1em;background-color: white;position: relative;}div.sk-label label {font-family: monospace;font-weight: bold;background-color: white;display: inline-block;line-height: 1.2em;}div.sk-label-container {position: relative;z-index: 2;text-align: center;}div.sk-container {display: inline-block;position: relative;}</style><div class=\"sk-top-container\"><div class=\"sk-container\"><div class=\"sk-item sk-dashed-wrapped\"><div class=\"sk-label-container\"><div class=\"sk-label sk-toggleable\"><input class=\"sk-toggleable__control sk-hidden--visually\" id=\"d009c980-14e2-4237-ad76-e26c3a942753\" type=\"checkbox\" ><label class=\"sk-toggleable__label\" for=\"d009c980-14e2-4237-ad76-e26c3a942753\">Pipeline</label><div class=\"sk-toggleable__content\"><pre>Pipeline(steps=[('preprocessing',\n",
       "                 ColumnTransformer(remainder='passthrough',\n",
       "                                   transformers=[('cat',\n",
       "                                                  Pipeline(steps=[('cat_imputer',\n",
       "                                                                   SimpleImputer(strategy='most_frequent')),\n",
       "                                                                  ('one_hot_encoder',\n",
       "                                                                   OneHotEncoder())]),\n",
       "                                                  ['Species']),\n",
       "                                                 ('num',\n",
       "                                                  Pipeline(steps=[('num_imputer',\n",
       "                                                                   SimpleImputer(strategy='median')),\n",
       "                                                                  ('std_scalar',\n",
       "                                                                   StandardScaler())]),\n",
       "                                                  ['Length1', 'Length2',\n",
       "                                                   'Length3', 'Height',\n",
       "                                                   'Width'])])),\n",
       "                ('model_training2',\n",
       "                 Pipeline(steps=[('model2', Lasso(random_state=124))]))])</pre></div></div></div><div class=\"sk-serial\"><div class=\"sk-item sk-dashed-wrapped\"><div class=\"sk-label-container\"><div class=\"sk-label sk-toggleable\"><input class=\"sk-toggleable__control sk-hidden--visually\" id=\"ff16549e-9e2f-4be1-9055-a2ba2b9c161e\" type=\"checkbox\" ><label class=\"sk-toggleable__label\" for=\"ff16549e-9e2f-4be1-9055-a2ba2b9c161e\">preprocessing: ColumnTransformer</label><div class=\"sk-toggleable__content\"><pre>ColumnTransformer(remainder='passthrough',\n",
       "                  transformers=[('cat',\n",
       "                                 Pipeline(steps=[('cat_imputer',\n",
       "                                                  SimpleImputer(strategy='most_frequent')),\n",
       "                                                 ('one_hot_encoder',\n",
       "                                                  OneHotEncoder())]),\n",
       "                                 ['Species']),\n",
       "                                ('num',\n",
       "                                 Pipeline(steps=[('num_imputer',\n",
       "                                                  SimpleImputer(strategy='median')),\n",
       "                                                 ('std_scalar',\n",
       "                                                  StandardScaler())]),\n",
       "                                 ['Length1', 'Length2', 'Length3', 'Height',\n",
       "                                  'Width'])])</pre></div></div></div><div class=\"sk-parallel\"><div class=\"sk-parallel-item\"><div class=\"sk-item\"><div class=\"sk-label-container\"><div class=\"sk-label sk-toggleable\"><input class=\"sk-toggleable__control sk-hidden--visually\" id=\"17130afd-8dbd-4c7f-a053-98cf0830006b\" type=\"checkbox\" ><label class=\"sk-toggleable__label\" for=\"17130afd-8dbd-4c7f-a053-98cf0830006b\">cat</label><div class=\"sk-toggleable__content\"><pre>['Species']</pre></div></div></div><div class=\"sk-serial\"><div class=\"sk-item\"><div class=\"sk-serial\"><div class=\"sk-item\"><div class=\"sk-estimator sk-toggleable\"><input class=\"sk-toggleable__control sk-hidden--visually\" id=\"57125fbf-4b91-4e70-b8f0-c11c70ba39ae\" type=\"checkbox\" ><label class=\"sk-toggleable__label\" for=\"57125fbf-4b91-4e70-b8f0-c11c70ba39ae\">SimpleImputer</label><div class=\"sk-toggleable__content\"><pre>SimpleImputer(strategy='most_frequent')</pre></div></div></div><div class=\"sk-item\"><div class=\"sk-estimator sk-toggleable\"><input class=\"sk-toggleable__control sk-hidden--visually\" id=\"3a1b6501-e908-493b-8e07-a89c105e462f\" type=\"checkbox\" ><label class=\"sk-toggleable__label\" for=\"3a1b6501-e908-493b-8e07-a89c105e462f\">OneHotEncoder</label><div class=\"sk-toggleable__content\"><pre>OneHotEncoder()</pre></div></div></div></div></div></div></div></div><div class=\"sk-parallel-item\"><div class=\"sk-item\"><div class=\"sk-label-container\"><div class=\"sk-label sk-toggleable\"><input class=\"sk-toggleable__control sk-hidden--visually\" id=\"eb1a40ac-a609-4829-944d-9b9c66b004de\" type=\"checkbox\" ><label class=\"sk-toggleable__label\" for=\"eb1a40ac-a609-4829-944d-9b9c66b004de\">num</label><div class=\"sk-toggleable__content\"><pre>['Length1', 'Length2', 'Length3', 'Height', 'Width']</pre></div></div></div><div class=\"sk-serial\"><div class=\"sk-item\"><div class=\"sk-serial\"><div class=\"sk-item\"><div class=\"sk-estimator sk-toggleable\"><input class=\"sk-toggleable__control sk-hidden--visually\" id=\"b9396e19-651a-4e6c-9c41-4c1e96f02f15\" type=\"checkbox\" ><label class=\"sk-toggleable__label\" for=\"b9396e19-651a-4e6c-9c41-4c1e96f02f15\">SimpleImputer</label><div class=\"sk-toggleable__content\"><pre>SimpleImputer(strategy='median')</pre></div></div></div><div class=\"sk-item\"><div class=\"sk-estimator sk-toggleable\"><input class=\"sk-toggleable__control sk-hidden--visually\" id=\"f8b411c0-df98-4760-a8b6-52609232cf81\" type=\"checkbox\" ><label class=\"sk-toggleable__label\" for=\"f8b411c0-df98-4760-a8b6-52609232cf81\">StandardScaler</label><div class=\"sk-toggleable__content\"><pre>StandardScaler()</pre></div></div></div></div></div></div></div></div></div></div><div class=\"sk-item\"><div class=\"sk-label-container\"><div class=\"sk-label sk-toggleable\"><input class=\"sk-toggleable__control sk-hidden--visually\" id=\"bcac27ed-d094-47e6-8ee7-ec9034edb4a2\" type=\"checkbox\" ><label class=\"sk-toggleable__label\" for=\"bcac27ed-d094-47e6-8ee7-ec9034edb4a2\">model_training2: Pipeline</label><div class=\"sk-toggleable__content\"><pre>Pipeline(steps=[('model2', Lasso(random_state=124))])</pre></div></div></div><div class=\"sk-serial\"><div class=\"sk-item\"><div class=\"sk-estimator sk-toggleable\"><input class=\"sk-toggleable__control sk-hidden--visually\" id=\"ece4348b-a60a-4a04-be63-9bc49bed6589\" type=\"checkbox\" ><label class=\"sk-toggleable__label\" for=\"ece4348b-a60a-4a04-be63-9bc49bed6589\">Lasso</label><div class=\"sk-toggleable__content\"><pre>Lasso(random_state=124)</pre></div></div></div></div></div></div></div></div></div>"
      ],
      "text/plain": [
       "Pipeline(steps=[('preprocessing',\n",
       "                 ColumnTransformer(remainder='passthrough',\n",
       "                                   transformers=[('cat',\n",
       "                                                  Pipeline(steps=[('cat_imputer',\n",
       "                                                                   SimpleImputer(strategy='most_frequent')),\n",
       "                                                                  ('one_hot_encoder',\n",
       "                                                                   OneHotEncoder())]),\n",
       "                                                  ['Species']),\n",
       "                                                 ('num',\n",
       "                                                  Pipeline(steps=[('num_imputer',\n",
       "                                                                   SimpleImputer(strategy='median')),\n",
       "                                                                  ('std_scalar',\n",
       "                                                                   StandardScaler())]),\n",
       "                                                  ['Length1', 'Length2',\n",
       "                                                   'Length3', 'Height',\n",
       "                                                   'Width'])])),\n",
       "                ('model_training2',\n",
       "                 Pipeline(steps=[('model2', Lasso(random_state=124))]))])"
      ]
     },
     "execution_count": 16,
     "metadata": {},
     "output_type": "execute_result"
    }
   ],
   "source": [
    "full_pipeline2"
   ]
  },
  {
   "cell_type": "code",
   "execution_count": 17,
   "metadata": {},
   "outputs": [
    {
     "data": {
      "text/html": [
       "<style>div.sk-top-container {color: black;background-color: white;}div.sk-toggleable {background-color: white;}label.sk-toggleable__label {cursor: pointer;display: block;width: 100%;margin-bottom: 0;padding: 0.2em 0.3em;box-sizing: border-box;text-align: center;}div.sk-toggleable__content {max-height: 0;max-width: 0;overflow: hidden;text-align: left;background-color: #f0f8ff;}div.sk-toggleable__content pre {margin: 0.2em;color: black;border-radius: 0.25em;background-color: #f0f8ff;}input.sk-toggleable__control:checked~div.sk-toggleable__content {max-height: 200px;max-width: 100%;overflow: auto;}div.sk-estimator input.sk-toggleable__control:checked~label.sk-toggleable__label {background-color: #d4ebff;}div.sk-label input.sk-toggleable__control:checked~label.sk-toggleable__label {background-color: #d4ebff;}input.sk-hidden--visually {border: 0;clip: rect(1px 1px 1px 1px);clip: rect(1px, 1px, 1px, 1px);height: 1px;margin: -1px;overflow: hidden;padding: 0;position: absolute;width: 1px;}div.sk-estimator {font-family: monospace;background-color: #f0f8ff;margin: 0.25em 0.25em;border: 1px dotted black;border-radius: 0.25em;box-sizing: border-box;}div.sk-estimator:hover {background-color: #d4ebff;}div.sk-parallel-item::after {content: \"\";width: 100%;border-bottom: 1px solid gray;flex-grow: 1;}div.sk-label:hover label.sk-toggleable__label {background-color: #d4ebff;}div.sk-serial::before {content: \"\";position: absolute;border-left: 1px solid gray;box-sizing: border-box;top: 2em;bottom: 0;left: 50%;}div.sk-serial {display: flex;flex-direction: column;align-items: center;background-color: white;}div.sk-item {z-index: 1;}div.sk-parallel {display: flex;align-items: stretch;justify-content: center;background-color: white;}div.sk-parallel-item {display: flex;flex-direction: column;position: relative;background-color: white;}div.sk-parallel-item:first-child::after {align-self: flex-end;width: 50%;}div.sk-parallel-item:last-child::after {align-self: flex-start;width: 50%;}div.sk-parallel-item:only-child::after {width: 0;}div.sk-dashed-wrapped {border: 1px dashed gray;margin: 0.2em;box-sizing: border-box;padding-bottom: 0.1em;background-color: white;position: relative;}div.sk-label label {font-family: monospace;font-weight: bold;background-color: white;display: inline-block;line-height: 1.2em;}div.sk-label-container {position: relative;z-index: 2;text-align: center;}div.sk-container {display: inline-block;position: relative;}</style><div class=\"sk-top-container\"><div class=\"sk-container\"><div class=\"sk-item sk-dashed-wrapped\"><div class=\"sk-label-container\"><div class=\"sk-label sk-toggleable\"><input class=\"sk-toggleable__control sk-hidden--visually\" id=\"6e4160a1-37c4-405d-9430-7241d6453b35\" type=\"checkbox\" ><label class=\"sk-toggleable__label\" for=\"6e4160a1-37c4-405d-9430-7241d6453b35\">Pipeline</label><div class=\"sk-toggleable__content\"><pre>Pipeline(steps=[('preprocessing',\n",
       "                 ColumnTransformer(remainder='passthrough',\n",
       "                                   transformers=[('cat',\n",
       "                                                  Pipeline(steps=[('cat_imputer',\n",
       "                                                                   SimpleImputer(strategy='most_frequent')),\n",
       "                                                                  ('one_hot_encoder',\n",
       "                                                                   OneHotEncoder())]),\n",
       "                                                  ['Species']),\n",
       "                                                 ('num',\n",
       "                                                  Pipeline(steps=[('num_imputer',\n",
       "                                                                   SimpleImputer(strategy='median')),\n",
       "                                                                  ('std_scalar',\n",
       "                                                                   StandardScaler())]),\n",
       "                                                  ['Length1', 'Length2',\n",
       "                                                   'Length3', 'Height',\n",
       "                                                   'Width'])])),\n",
       "                ('model_training3',\n",
       "                 Pipeline(steps=[('model3', ElasticNet(random_state=243))]))])</pre></div></div></div><div class=\"sk-serial\"><div class=\"sk-item sk-dashed-wrapped\"><div class=\"sk-label-container\"><div class=\"sk-label sk-toggleable\"><input class=\"sk-toggleable__control sk-hidden--visually\" id=\"896078f4-e9ab-4cb7-99d4-a5e4f42ed286\" type=\"checkbox\" ><label class=\"sk-toggleable__label\" for=\"896078f4-e9ab-4cb7-99d4-a5e4f42ed286\">preprocessing: ColumnTransformer</label><div class=\"sk-toggleable__content\"><pre>ColumnTransformer(remainder='passthrough',\n",
       "                  transformers=[('cat',\n",
       "                                 Pipeline(steps=[('cat_imputer',\n",
       "                                                  SimpleImputer(strategy='most_frequent')),\n",
       "                                                 ('one_hot_encoder',\n",
       "                                                  OneHotEncoder())]),\n",
       "                                 ['Species']),\n",
       "                                ('num',\n",
       "                                 Pipeline(steps=[('num_imputer',\n",
       "                                                  SimpleImputer(strategy='median')),\n",
       "                                                 ('std_scalar',\n",
       "                                                  StandardScaler())]),\n",
       "                                 ['Length1', 'Length2', 'Length3', 'Height',\n",
       "                                  'Width'])])</pre></div></div></div><div class=\"sk-parallel\"><div class=\"sk-parallel-item\"><div class=\"sk-item\"><div class=\"sk-label-container\"><div class=\"sk-label sk-toggleable\"><input class=\"sk-toggleable__control sk-hidden--visually\" id=\"af9de7bf-db34-4168-8552-7eab1baf3b9a\" type=\"checkbox\" ><label class=\"sk-toggleable__label\" for=\"af9de7bf-db34-4168-8552-7eab1baf3b9a\">cat</label><div class=\"sk-toggleable__content\"><pre>['Species']</pre></div></div></div><div class=\"sk-serial\"><div class=\"sk-item\"><div class=\"sk-serial\"><div class=\"sk-item\"><div class=\"sk-estimator sk-toggleable\"><input class=\"sk-toggleable__control sk-hidden--visually\" id=\"3ec37bb7-84d6-4d57-8fcc-e5741412b825\" type=\"checkbox\" ><label class=\"sk-toggleable__label\" for=\"3ec37bb7-84d6-4d57-8fcc-e5741412b825\">SimpleImputer</label><div class=\"sk-toggleable__content\"><pre>SimpleImputer(strategy='most_frequent')</pre></div></div></div><div class=\"sk-item\"><div class=\"sk-estimator sk-toggleable\"><input class=\"sk-toggleable__control sk-hidden--visually\" id=\"eb7568cc-220b-4997-b4ef-95c970396c8f\" type=\"checkbox\" ><label class=\"sk-toggleable__label\" for=\"eb7568cc-220b-4997-b4ef-95c970396c8f\">OneHotEncoder</label><div class=\"sk-toggleable__content\"><pre>OneHotEncoder()</pre></div></div></div></div></div></div></div></div><div class=\"sk-parallel-item\"><div class=\"sk-item\"><div class=\"sk-label-container\"><div class=\"sk-label sk-toggleable\"><input class=\"sk-toggleable__control sk-hidden--visually\" id=\"017cbd42-fc91-4e11-a2f0-dd10492b40ee\" type=\"checkbox\" ><label class=\"sk-toggleable__label\" for=\"017cbd42-fc91-4e11-a2f0-dd10492b40ee\">num</label><div class=\"sk-toggleable__content\"><pre>['Length1', 'Length2', 'Length3', 'Height', 'Width']</pre></div></div></div><div class=\"sk-serial\"><div class=\"sk-item\"><div class=\"sk-serial\"><div class=\"sk-item\"><div class=\"sk-estimator sk-toggleable\"><input class=\"sk-toggleable__control sk-hidden--visually\" id=\"4b072949-2c21-4282-832d-e033e78c6670\" type=\"checkbox\" ><label class=\"sk-toggleable__label\" for=\"4b072949-2c21-4282-832d-e033e78c6670\">SimpleImputer</label><div class=\"sk-toggleable__content\"><pre>SimpleImputer(strategy='median')</pre></div></div></div><div class=\"sk-item\"><div class=\"sk-estimator sk-toggleable\"><input class=\"sk-toggleable__control sk-hidden--visually\" id=\"74b598bb-6b71-486a-b80c-49e345dd8a71\" type=\"checkbox\" ><label class=\"sk-toggleable__label\" for=\"74b598bb-6b71-486a-b80c-49e345dd8a71\">StandardScaler</label><div class=\"sk-toggleable__content\"><pre>StandardScaler()</pre></div></div></div></div></div></div></div></div></div></div><div class=\"sk-item\"><div class=\"sk-label-container\"><div class=\"sk-label sk-toggleable\"><input class=\"sk-toggleable__control sk-hidden--visually\" id=\"1c930cfc-2fdd-48f1-8239-7cdd1874b1fc\" type=\"checkbox\" ><label class=\"sk-toggleable__label\" for=\"1c930cfc-2fdd-48f1-8239-7cdd1874b1fc\">model_training3: Pipeline</label><div class=\"sk-toggleable__content\"><pre>Pipeline(steps=[('model3', ElasticNet(random_state=243))])</pre></div></div></div><div class=\"sk-serial\"><div class=\"sk-item\"><div class=\"sk-estimator sk-toggleable\"><input class=\"sk-toggleable__control sk-hidden--visually\" id=\"ef019fbe-86f2-431c-8702-84a4278e229e\" type=\"checkbox\" ><label class=\"sk-toggleable__label\" for=\"ef019fbe-86f2-431c-8702-84a4278e229e\">ElasticNet</label><div class=\"sk-toggleable__content\"><pre>ElasticNet(random_state=243)</pre></div></div></div></div></div></div></div></div></div>"
      ],
      "text/plain": [
       "Pipeline(steps=[('preprocessing',\n",
       "                 ColumnTransformer(remainder='passthrough',\n",
       "                                   transformers=[('cat',\n",
       "                                                  Pipeline(steps=[('cat_imputer',\n",
       "                                                                   SimpleImputer(strategy='most_frequent')),\n",
       "                                                                  ('one_hot_encoder',\n",
       "                                                                   OneHotEncoder())]),\n",
       "                                                  ['Species']),\n",
       "                                                 ('num',\n",
       "                                                  Pipeline(steps=[('num_imputer',\n",
       "                                                                   SimpleImputer(strategy='median')),\n",
       "                                                                  ('std_scalar',\n",
       "                                                                   StandardScaler())]),\n",
       "                                                  ['Length1', 'Length2',\n",
       "                                                   'Length3', 'Height',\n",
       "                                                   'Width'])])),\n",
       "                ('model_training3',\n",
       "                 Pipeline(steps=[('model3', ElasticNet(random_state=243))]))])"
      ]
     },
     "execution_count": 17,
     "metadata": {},
     "output_type": "execute_result"
    }
   ],
   "source": [
    "full_pipeline3"
   ]
  },
  {
   "cell_type": "code",
   "execution_count": 18,
   "metadata": {},
   "outputs": [
    {
     "name": "stdout",
     "output_type": "stream",
     "text": [
      "R squared score for the ridge regression on training set is 0.908\n",
      "R squared score for the lasso regression on training set is 0.91\n",
      "R squared score for the elasticnet regression on training set is 0.851\n"
     ]
    }
   ],
   "source": [
    "kf = KFold(n_splits=5,shuffle=True,random_state=987)\n",
    "score1 = cross_val_score(full_pipeline1,x_train,y_train,cv=kf,scoring='r2').mean()\n",
    "score2 = cross_val_score(full_pipeline2,x_train,y_train,cv=kf,scoring='r2').mean()\n",
    "score3 = cross_val_score(full_pipeline3,x_train,y_train,cv=kf,scoring='r2').mean()\n",
    "\n",
    "print(f\"R squared score for the ridge regression on training set is {np.round(score1,3)}\")\n",
    "print(f\"R squared score for the lasso regression on training set is {np.round(score2,3)}\")\n",
    "print(f\"R squared score for the elasticnet regression on training set is {np.round(score3,3)}\")"
   ]
  },
  {
   "cell_type": "code",
   "execution_count": 19,
   "metadata": {},
   "outputs": [
    {
     "data": {
      "text/plain": [
       "dict_keys(['memory', 'steps', 'verbose', 'preprocessing', 'model_training2', 'preprocessing__n_jobs', 'preprocessing__remainder', 'preprocessing__sparse_threshold', 'preprocessing__transformer_weights', 'preprocessing__transformers', 'preprocessing__verbose', 'preprocessing__cat', 'preprocessing__num', 'preprocessing__cat__memory', 'preprocessing__cat__steps', 'preprocessing__cat__verbose', 'preprocessing__cat__cat_imputer', 'preprocessing__cat__one_hot_encoder', 'preprocessing__cat__cat_imputer__add_indicator', 'preprocessing__cat__cat_imputer__copy', 'preprocessing__cat__cat_imputer__fill_value', 'preprocessing__cat__cat_imputer__missing_values', 'preprocessing__cat__cat_imputer__strategy', 'preprocessing__cat__cat_imputer__verbose', 'preprocessing__cat__one_hot_encoder__categories', 'preprocessing__cat__one_hot_encoder__drop', 'preprocessing__cat__one_hot_encoder__dtype', 'preprocessing__cat__one_hot_encoder__handle_unknown', 'preprocessing__cat__one_hot_encoder__sparse', 'preprocessing__num__memory', 'preprocessing__num__steps', 'preprocessing__num__verbose', 'preprocessing__num__num_imputer', 'preprocessing__num__std_scalar', 'preprocessing__num__num_imputer__add_indicator', 'preprocessing__num__num_imputer__copy', 'preprocessing__num__num_imputer__fill_value', 'preprocessing__num__num_imputer__missing_values', 'preprocessing__num__num_imputer__strategy', 'preprocessing__num__num_imputer__verbose', 'preprocessing__num__std_scalar__copy', 'preprocessing__num__std_scalar__with_mean', 'preprocessing__num__std_scalar__with_std', 'model_training2__memory', 'model_training2__steps', 'model_training2__verbose', 'model_training2__model2', 'model_training2__model2__alpha', 'model_training2__model2__copy_X', 'model_training2__model2__fit_intercept', 'model_training2__model2__max_iter', 'model_training2__model2__normalize', 'model_training2__model2__positive', 'model_training2__model2__precompute', 'model_training2__model2__random_state', 'model_training2__model2__selection', 'model_training2__model2__tol', 'model_training2__model2__warm_start'])"
      ]
     },
     "execution_count": 19,
     "metadata": {},
     "output_type": "execute_result"
    }
   ],
   "source": [
    "full_pipeline2.get_params().keys()"
   ]
  },
  {
   "cell_type": "code",
   "execution_count": 20,
   "metadata": {},
   "outputs": [],
   "source": [
    "tuning_parameters = {}\n",
    "tuning_parameters['model_training2__model2__alpha'] = np.arange(1,10,0.5)\n",
    "tuning_parameters['model_training2__model2__selection'] = ['cyclic','random']"
   ]
  },
  {
   "cell_type": "code",
   "execution_count": 21,
   "metadata": {},
   "outputs": [],
   "source": [
    "hyperparameter_tuning_results = RandomizedSearchCV(full_pipeline2,tuning_parameters,scoring='r2',random_state=764)"
   ]
  },
  {
   "cell_type": "code",
   "execution_count": 22,
   "metadata": {},
   "outputs": [],
   "source": [
    "tuning_results = hyperparameter_tuning_results.fit(x_train,y_train)"
   ]
  },
  {
   "cell_type": "code",
   "execution_count": 23,
   "metadata": {},
   "outputs": [
    {
     "data": {
      "text/plain": [
       "[5, 4, 3, 2, 1]"
      ]
     },
     "execution_count": 23,
     "metadata": {},
     "output_type": "execute_result"
    }
   ],
   "source": [
    "a= [3,5,2,1,4]\n",
    "a.sort(reverse=True)\n",
    "a"
   ]
  },
  {
   "cell_type": "code",
   "execution_count": 24,
   "metadata": {},
   "outputs": [
    {
     "name": "stdout",
     "output_type": "stream",
     "text": [
      "R squared score for the ridge regression on training set is 0.908\n",
      "R squared score for the lasso regression on training set is 0.91\n",
      "R squared score for the elasticnet regression on training set is 0.851\n"
     ]
    }
   ],
   "source": [
    "## Using cross validation to find the best model out of three \n",
    "\n",
    "kf = KFold(n_splits=5,shuffle=True,random_state=987)\n",
    "score1 = cross_val_score(full_pipeline1,x_train,y_train,cv=kf,scoring='r2').mean()\n",
    "score2 = cross_val_score(full_pipeline2,x_train,y_train,cv=kf,scoring='r2').mean()\n",
    "score3 = cross_val_score(full_pipeline3,x_train,y_train,cv=kf,scoring='r2').mean()\n",
    "\n",
    "print(f\"R squared score for the ridge regression on training set is {np.round(score1,3)}\")\n",
    "print(f\"R squared score for the lasso regression on training set is {np.round(score2,3)}\")\n",
    "print(f\"R squared score for the elasticnet regression on training set is {np.round(score3,3)}\")"
   ]
  },
  {
   "cell_type": "code",
   "execution_count": null,
   "metadata": {},
   "outputs": [],
   "source": []
  }
 ],
 "metadata": {
  "kernelspec": {
   "display_name": "Python 3",
   "language": "python",
   "name": "python3"
  },
  "language_info": {
   "codemirror_mode": {
    "name": "ipython",
    "version": 3
   },
   "file_extension": ".py",
   "mimetype": "text/x-python",
   "name": "python",
   "nbconvert_exporter": "python",
   "pygments_lexer": "ipython3",
   "version": "3.8.3"
  }
 },
 "nbformat": 4,
 "nbformat_minor": 4
}
